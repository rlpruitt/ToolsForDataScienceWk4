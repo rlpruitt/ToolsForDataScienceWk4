{
 "cells": [
  {
   "cell_type": "markdown",
   "id": "e8aec753",
   "metadata": {},
   "source": [
    "My Jupyter Notebook on IBM Watson Studio"
   ]
  },
  {
   "cell_type": "markdown",
   "id": "1d711faa",
   "metadata": {},
   "source": [
    "# Ralph Pruitt\n",
    "\n",
    "Data Scientist (Desired Occupation)"
   ]
  },
  {
   "cell_type": "markdown",
   "id": "de211be4",
   "metadata": {},
   "source": [
    "_After a 40+ year IT career that began as a Systems Engineer at IBM and ended in 2019 when I retired as independent\n",
    "consultant specializing in backend software development (.Net, PHP, SQL), I''ve decided to return to the workforce\n",
    "but to utilize my years of experience and expertise in the relatively new and fast-growing area of Data Science._"
   ]
  },
  {
   "cell_type": "markdown",
   "id": "5d6f0fa1",
   "metadata": {},
   "source": [
    "### The code in this notebook prints the current date and time."
   ]
  },
  {
   "cell_type": "code",
   "execution_count": 1,
   "id": "ec17374d-0f70-4f2e-a4c8-cb2d73a1847b",
   "metadata": {},
   "outputs": [
    {
     "name": "stdout",
     "output_type": "stream",
     "text": [
      "February 14, 2023 (07:54 PM)\n"
     ]
    }
   ],
   "source": [
    "import datetime\n",
    "\n",
    "now = datetime.datetime.now()\n",
    "print(now.strftime(\"%B %d, %Y (%I:%M %p)\"))"
   ]
  },
  {
   "cell_type": "markdown",
   "id": "c4b13f34",
   "metadata": {},
   "source": [
    "Here are the requisites for this lab:\n",
    "- Cell 1: a title\n",
    "- Cell 2: Name and occupation\n",
    "- Cell 3: Why I'm interested in Data Science\n",
    "- Cell 4: Description of the code in Cell 5\n",
    "- Cell 5: Code\n",
    "- Cell 6: Markdown (markup) exercise (This has bulleted list, horizontal rule, and hyperlink)\n",
    "\n",
    "***\n",
    "\n",
    "__[Markdown for Jupyter notebooks cheatsheet](https://www.ibm.com/docs/en/watson-studio-local/1.2.3?topic=notebooks-markdown-jupyter-cheatsheet)__"
   ]
  },
  {
   "cell_type": "code",
   "execution_count": null,
   "id": "ef32defd",
   "metadata": {},
   "outputs": [],
   "source": []
  }
 ],
 "metadata": {
  "kernelspec": {
   "display_name": "Python 3 (ipykernel)",
   "language": "python",
   "name": "python3"
  },
  "language_info": {
   "codemirror_mode": {
    "name": "ipython",
    "version": 3
   },
   "file_extension": ".py",
   "mimetype": "text/x-python",
   "name": "python",
   "nbconvert_exporter": "python",
   "pygments_lexer": "ipython3",
   "version": "3.10.9"
  }
 },
 "nbformat": 4,
 "nbformat_minor": 5
}
